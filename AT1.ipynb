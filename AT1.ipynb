{
  "nbformat": 4,
  "nbformat_minor": 0,
  "metadata": {
    "colab": {
      "name": "AT1.ipynb",
      "version": "0.3.2",
      "provenance": [],
      "include_colab_link": true
    },
    "kernelspec": {
      "name": "python3",
      "display_name": "Python 3"
    }
  },
  "cells": [
    {
      "cell_type": "markdown",
      "metadata": {
        "id": "view-in-github",
        "colab_type": "text"
      },
      "source": [
        "<a href=\"https://colab.research.google.com/github/katyalrajat/UTS_ML2019_ID13132903/blob/master/AT1.ipynb\" target=\"_parent\"><img src=\"https://colab.research.google.com/assets/colab-badge.svg\" alt=\"Open In Colab\"/></a>"
      ]
    },
    {
      "cell_type": "markdown",
      "metadata": {
        "id": "4o6pp0RXaMQC",
        "colab_type": "text"
      },
      "source": [
        "#Draft and Experiment Area\n",
        "\n",
        "## Selecting a paper\n",
        "\n",
        "There were many interesting papers available in the paper list.\n",
        "\n",
        "\n"
      ]
    },
    {
      "cell_type": "markdown",
      "metadata": {
        "id": "zyAD1ZxhbVbM",
        "colab_type": "text"
      },
      "source": [
        "# Review Report on Paper \" ... \"\n"
      ]
    },
    {
      "cell_type": "code",
      "metadata": {
        "id": "_rwj5Yq2cCWn",
        "colab_type": "code",
        "colab": {}
      },
      "source": [
        "# This is code comments\n",
        "## And this\n",
        "### And this too\n"
      ],
      "execution_count": 0,
      "outputs": []
    },
    {
      "cell_type": "markdown",
      "metadata": {
        "id": "WSd9lZLIa9HS",
        "colab_type": "text"
      },
      "source": [
        ""
      ]
    }
  ]
}